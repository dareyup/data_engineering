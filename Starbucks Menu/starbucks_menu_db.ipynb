{
 "cells": [
  {
   "cell_type": "markdown",
   "id": "ce5d8d55",
   "metadata": {},
   "source": [
    "# Importing Starbucks Menu Nutritional Facts Data into PostgreSQL"
   ]
  },
  {
   "cell_type": "code",
   "execution_count": 1,
   "id": "d016c2f8",
   "metadata": {
    "scrolled": true
   },
   "outputs": [],
   "source": [
    "## import necessary libraries\n",
    "# pip install psycopg2\n",
    "#pip install yfinance\n",
    "\n",
    "import pandas as pd\n",
    "import numpy as np"
   ]
  },
  {
   "cell_type": "markdown",
   "id": "0936eeeb",
   "metadata": {},
   "source": [
    "# Extracting Data: Read CSV Files"
   ]
  },
  {
   "cell_type": "markdown",
   "id": "d1668237",
   "metadata": {},
   "source": [
    "# Read CSV Files"
   ]
  },
  {
   "cell_type": "code",
   "execution_count": 40,
   "id": "16b560ac",
   "metadata": {
    "scrolled": true
   },
   "outputs": [
    {
     "data": {
      "text/plain": [
       "{'encoding': 'utf-8', 'confidence': 0.99, 'language': ''}"
      ]
     },
     "execution_count": 40,
     "metadata": {},
     "output_type": "execute_result"
    }
   ],
   "source": [
    "# Viewing the encoding because thy weren't importing initially\n",
    "import chardet\n",
    "with open(\"/Users/dareyup/Documents/Datasets/Starbucks-data/starbucks_drinkMenu_expanded.csv\", 'rb') as rawdata:\n",
    "    result = chardet.detect(rawdata.read(100000))\n",
    "result"
   ]
  },
  {
   "cell_type": "markdown",
   "id": "c28ba7e7",
   "metadata": {},
   "source": [
    "### Data was extracted from Kaggle and saved locally"
   ]
  },
  {
   "cell_type": "code",
   "execution_count": 24,
   "id": "af72d709",
   "metadata": {
    "scrolled": true
   },
   "outputs": [],
   "source": [
    "food_nutr = pd.read_csv(\"/Users/dareyup/Documents/Datasets/Starbucks-data/starbucks-menu-nutrition-food.csv\", encoding = 'utf-16')\n",
    "drinks_nutr = pd.read_csv(\"/Users/dareyup/Documents/Datasets/Starbucks-data/starbucks-menu-nutrition-drinks.csv\",\n",
    "                       encoding = 'utf-8')\n",
    "expanded_drink_nutr = pd.read_csv(\"/Users/dareyup/Documents/Datasets/Starbucks-data/starbucks_drinkMenu_expanded.csv\",\n",
    "                       encoding = 'utf-8')"
   ]
  },
  {
   "cell_type": "code",
   "execution_count": 25,
   "id": "35bef6c9",
   "metadata": {
    "scrolled": true
   },
   "outputs": [
    {
     "data": {
      "text/html": [
       "<div>\n",
       "<style scoped>\n",
       "    .dataframe tbody tr th:only-of-type {\n",
       "        vertical-align: middle;\n",
       "    }\n",
       "\n",
       "    .dataframe tbody tr th {\n",
       "        vertical-align: top;\n",
       "    }\n",
       "\n",
       "    .dataframe thead th {\n",
       "        text-align: right;\n",
       "    }\n",
       "</style>\n",
       "<table border=\"1\" class=\"dataframe\">\n",
       "  <thead>\n",
       "    <tr style=\"text-align: right;\">\n",
       "      <th></th>\n",
       "      <th>Unnamed: 0</th>\n",
       "      <th>Calories</th>\n",
       "      <th>Fat (g)</th>\n",
       "      <th>Carb. (g)</th>\n",
       "      <th>Fiber (g)</th>\n",
       "      <th>Protein (g)</th>\n",
       "    </tr>\n",
       "  </thead>\n",
       "  <tbody>\n",
       "    <tr>\n",
       "      <th>0</th>\n",
       "      <td>Chonga Bagel</td>\n",
       "      <td>300</td>\n",
       "      <td>5.0</td>\n",
       "      <td>50</td>\n",
       "      <td>3</td>\n",
       "      <td>12</td>\n",
       "    </tr>\n",
       "    <tr>\n",
       "      <th>1</th>\n",
       "      <td>8-Grain Roll</td>\n",
       "      <td>380</td>\n",
       "      <td>6.0</td>\n",
       "      <td>70</td>\n",
       "      <td>7</td>\n",
       "      <td>10</td>\n",
       "    </tr>\n",
       "    <tr>\n",
       "      <th>2</th>\n",
       "      <td>Almond Croissant</td>\n",
       "      <td>410</td>\n",
       "      <td>22.0</td>\n",
       "      <td>45</td>\n",
       "      <td>3</td>\n",
       "      <td>10</td>\n",
       "    </tr>\n",
       "    <tr>\n",
       "      <th>3</th>\n",
       "      <td>Apple Fritter</td>\n",
       "      <td>460</td>\n",
       "      <td>23.0</td>\n",
       "      <td>56</td>\n",
       "      <td>2</td>\n",
       "      <td>7</td>\n",
       "    </tr>\n",
       "    <tr>\n",
       "      <th>4</th>\n",
       "      <td>Banana Nut Bread</td>\n",
       "      <td>420</td>\n",
       "      <td>22.0</td>\n",
       "      <td>52</td>\n",
       "      <td>2</td>\n",
       "      <td>6</td>\n",
       "    </tr>\n",
       "  </tbody>\n",
       "</table>\n",
       "</div>"
      ],
      "text/plain": [
       "         Unnamed: 0   Calories   Fat (g)   Carb. (g)   Fiber (g)   Protein (g)\n",
       "0      Chonga Bagel        300       5.0          50           3            12\n",
       "1      8-Grain Roll        380       6.0          70           7            10\n",
       "2  Almond Croissant        410      22.0          45           3            10\n",
       "3     Apple Fritter        460      23.0          56           2             7\n",
       "4  Banana Nut Bread        420      22.0          52           2             6"
      ]
     },
     "execution_count": 25,
     "metadata": {},
     "output_type": "execute_result"
    }
   ],
   "source": [
    "food_nutr.head()"
   ]
  },
  {
   "cell_type": "code",
   "execution_count": 26,
   "id": "e10d558e",
   "metadata": {
    "scrolled": true
   },
   "outputs": [
    {
     "data": {
      "text/html": [
       "<div>\n",
       "<style scoped>\n",
       "    .dataframe tbody tr th:only-of-type {\n",
       "        vertical-align: middle;\n",
       "    }\n",
       "\n",
       "    .dataframe tbody tr th {\n",
       "        vertical-align: top;\n",
       "    }\n",
       "\n",
       "    .dataframe thead th {\n",
       "        text-align: right;\n",
       "    }\n",
       "</style>\n",
       "<table border=\"1\" class=\"dataframe\">\n",
       "  <thead>\n",
       "    <tr style=\"text-align: right;\">\n",
       "      <th></th>\n",
       "      <th>Unnamed: 0</th>\n",
       "      <th>Calories</th>\n",
       "      <th>Fat (g)</th>\n",
       "      <th>Carb. (g)</th>\n",
       "      <th>Fiber (g)</th>\n",
       "      <th>Protein</th>\n",
       "      <th>Sodium</th>\n",
       "    </tr>\n",
       "  </thead>\n",
       "  <tbody>\n",
       "    <tr>\n",
       "      <th>0</th>\n",
       "      <td>Cool Lime Starbucks Refreshers™ Beverage</td>\n",
       "      <td>45</td>\n",
       "      <td>0</td>\n",
       "      <td>11</td>\n",
       "      <td>0</td>\n",
       "      <td>0</td>\n",
       "      <td>10</td>\n",
       "    </tr>\n",
       "    <tr>\n",
       "      <th>1</th>\n",
       "      <td>Ombré Pink Drink</td>\n",
       "      <td>-</td>\n",
       "      <td>-</td>\n",
       "      <td>-</td>\n",
       "      <td>-</td>\n",
       "      <td>-</td>\n",
       "      <td>-</td>\n",
       "    </tr>\n",
       "    <tr>\n",
       "      <th>2</th>\n",
       "      <td>Pink Drink</td>\n",
       "      <td>-</td>\n",
       "      <td>-</td>\n",
       "      <td>-</td>\n",
       "      <td>-</td>\n",
       "      <td>-</td>\n",
       "      <td>-</td>\n",
       "    </tr>\n",
       "    <tr>\n",
       "      <th>3</th>\n",
       "      <td>Strawberry Acai Starbucks Refreshers™ Beverage</td>\n",
       "      <td>80</td>\n",
       "      <td>0</td>\n",
       "      <td>18</td>\n",
       "      <td>1</td>\n",
       "      <td>0</td>\n",
       "      <td>10</td>\n",
       "    </tr>\n",
       "    <tr>\n",
       "      <th>4</th>\n",
       "      <td>Very Berry Hibiscus Starbucks Refreshers™ Beve...</td>\n",
       "      <td>60</td>\n",
       "      <td>0</td>\n",
       "      <td>14</td>\n",
       "      <td>1</td>\n",
       "      <td>0</td>\n",
       "      <td>10</td>\n",
       "    </tr>\n",
       "  </tbody>\n",
       "</table>\n",
       "</div>"
      ],
      "text/plain": [
       "                                          Unnamed: 0 Calories Fat (g)  \\\n",
       "0           Cool Lime Starbucks Refreshers™ Beverage       45       0   \n",
       "1                                   Ombré Pink Drink        -       -   \n",
       "2                                         Pink Drink        -       -   \n",
       "3     Strawberry Acai Starbucks Refreshers™ Beverage       80       0   \n",
       "4  Very Berry Hibiscus Starbucks Refreshers™ Beve...       60       0   \n",
       "\n",
       "  Carb. (g) Fiber (g) Protein Sodium  \n",
       "0        11         0       0     10  \n",
       "1         -         -       -      -  \n",
       "2         -         -       -      -  \n",
       "3        18         1       0     10  \n",
       "4        14         1       0     10  "
      ]
     },
     "execution_count": 26,
     "metadata": {},
     "output_type": "execute_result"
    }
   ],
   "source": [
    "drinks_nutr.head()"
   ]
  },
  {
   "cell_type": "code",
   "execution_count": 27,
   "id": "13d80ac7",
   "metadata": {
    "scrolled": true
   },
   "outputs": [
    {
     "data": {
      "text/html": [
       "<div>\n",
       "<style scoped>\n",
       "    .dataframe tbody tr th:only-of-type {\n",
       "        vertical-align: middle;\n",
       "    }\n",
       "\n",
       "    .dataframe tbody tr th {\n",
       "        vertical-align: top;\n",
       "    }\n",
       "\n",
       "    .dataframe thead th {\n",
       "        text-align: right;\n",
       "    }\n",
       "</style>\n",
       "<table border=\"1\" class=\"dataframe\">\n",
       "  <thead>\n",
       "    <tr style=\"text-align: right;\">\n",
       "      <th></th>\n",
       "      <th>Beverage_category</th>\n",
       "      <th>Beverage</th>\n",
       "      <th>Beverage_prep</th>\n",
       "      <th>Calories</th>\n",
       "      <th>Total Fat (g)</th>\n",
       "      <th>Trans Fat (g)</th>\n",
       "      <th>Saturated Fat (g)</th>\n",
       "      <th>Sodium (mg)</th>\n",
       "      <th>Total Carbohydrates (g)</th>\n",
       "      <th>Cholesterol (mg)</th>\n",
       "      <th>Dietary Fibre (g)</th>\n",
       "      <th>Sugars (g)</th>\n",
       "      <th>Protein (g)</th>\n",
       "      <th>Vitamin A (% DV)</th>\n",
       "      <th>Vitamin C (% DV)</th>\n",
       "      <th>Calcium (% DV)</th>\n",
       "      <th>Iron (% DV)</th>\n",
       "      <th>Caffeine (mg)</th>\n",
       "    </tr>\n",
       "  </thead>\n",
       "  <tbody>\n",
       "    <tr>\n",
       "      <th>0</th>\n",
       "      <td>Coffee</td>\n",
       "      <td>Brewed Coffee</td>\n",
       "      <td>Short</td>\n",
       "      <td>3</td>\n",
       "      <td>0.1</td>\n",
       "      <td>0.0</td>\n",
       "      <td>0.0</td>\n",
       "      <td>0</td>\n",
       "      <td>5</td>\n",
       "      <td>0</td>\n",
       "      <td>0</td>\n",
       "      <td>0</td>\n",
       "      <td>0.3</td>\n",
       "      <td>0%</td>\n",
       "      <td>0%</td>\n",
       "      <td>0%</td>\n",
       "      <td>0%</td>\n",
       "      <td>175</td>\n",
       "    </tr>\n",
       "    <tr>\n",
       "      <th>1</th>\n",
       "      <td>Coffee</td>\n",
       "      <td>Brewed Coffee</td>\n",
       "      <td>Tall</td>\n",
       "      <td>4</td>\n",
       "      <td>0.1</td>\n",
       "      <td>0.0</td>\n",
       "      <td>0.0</td>\n",
       "      <td>0</td>\n",
       "      <td>10</td>\n",
       "      <td>0</td>\n",
       "      <td>0</td>\n",
       "      <td>0</td>\n",
       "      <td>0.5</td>\n",
       "      <td>0%</td>\n",
       "      <td>0%</td>\n",
       "      <td>0%</td>\n",
       "      <td>0%</td>\n",
       "      <td>260</td>\n",
       "    </tr>\n",
       "    <tr>\n",
       "      <th>2</th>\n",
       "      <td>Coffee</td>\n",
       "      <td>Brewed Coffee</td>\n",
       "      <td>Grande</td>\n",
       "      <td>5</td>\n",
       "      <td>0.1</td>\n",
       "      <td>0.0</td>\n",
       "      <td>0.0</td>\n",
       "      <td>0</td>\n",
       "      <td>10</td>\n",
       "      <td>0</td>\n",
       "      <td>0</td>\n",
       "      <td>0</td>\n",
       "      <td>1.0</td>\n",
       "      <td>0%</td>\n",
       "      <td>0%</td>\n",
       "      <td>0%</td>\n",
       "      <td>0%</td>\n",
       "      <td>330</td>\n",
       "    </tr>\n",
       "    <tr>\n",
       "      <th>3</th>\n",
       "      <td>Coffee</td>\n",
       "      <td>Brewed Coffee</td>\n",
       "      <td>Venti</td>\n",
       "      <td>5</td>\n",
       "      <td>0.1</td>\n",
       "      <td>0.0</td>\n",
       "      <td>0.0</td>\n",
       "      <td>0</td>\n",
       "      <td>10</td>\n",
       "      <td>0</td>\n",
       "      <td>0</td>\n",
       "      <td>0</td>\n",
       "      <td>1.0</td>\n",
       "      <td>0%</td>\n",
       "      <td>0%</td>\n",
       "      <td>2%</td>\n",
       "      <td>0%</td>\n",
       "      <td>410</td>\n",
       "    </tr>\n",
       "    <tr>\n",
       "      <th>4</th>\n",
       "      <td>Classic Espresso Drinks</td>\n",
       "      <td>Caffè Latte</td>\n",
       "      <td>Short Nonfat Milk</td>\n",
       "      <td>70</td>\n",
       "      <td>0.1</td>\n",
       "      <td>0.1</td>\n",
       "      <td>0.0</td>\n",
       "      <td>5</td>\n",
       "      <td>75</td>\n",
       "      <td>10</td>\n",
       "      <td>0</td>\n",
       "      <td>9</td>\n",
       "      <td>6.0</td>\n",
       "      <td>10%</td>\n",
       "      <td>0%</td>\n",
       "      <td>20%</td>\n",
       "      <td>0%</td>\n",
       "      <td>75</td>\n",
       "    </tr>\n",
       "  </tbody>\n",
       "</table>\n",
       "</div>"
      ],
      "text/plain": [
       "         Beverage_category       Beverage      Beverage_prep  Calories  \\\n",
       "0                   Coffee  Brewed Coffee              Short         3   \n",
       "1                   Coffee  Brewed Coffee               Tall         4   \n",
       "2                   Coffee  Brewed Coffee             Grande         5   \n",
       "3                   Coffee  Brewed Coffee              Venti         5   \n",
       "4  Classic Espresso Drinks    Caffè Latte  Short Nonfat Milk        70   \n",
       "\n",
       "   Total Fat (g)  Trans Fat (g)   Saturated Fat (g)   Sodium (mg)  \\\n",
       "0            0.1             0.0                0.0             0   \n",
       "1            0.1             0.0                0.0             0   \n",
       "2            0.1             0.0                0.0             0   \n",
       "3            0.1             0.0                0.0             0   \n",
       "4            0.1             0.1                0.0             5   \n",
       "\n",
       "    Total Carbohydrates (g)   Cholesterol (mg)   Dietary Fibre (g)  \\\n",
       "0                          5                 0                   0   \n",
       "1                         10                 0                   0   \n",
       "2                         10                 0                   0   \n",
       "3                         10                 0                   0   \n",
       "4                         75                10                   0   \n",
       "\n",
       "    Sugars (g)   Protein (g)  Vitamin A (% DV)  Vitamin C (% DV)  \\\n",
       "0            0            0.3                0%               0%   \n",
       "1            0            0.5                0%               0%   \n",
       "2            0            1.0                0%               0%   \n",
       "3            0            1.0                0%               0%   \n",
       "4            9            6.0               10%               0%   \n",
       "\n",
       "   Calcium (% DV)  Iron (% DV)  Caffeine (mg)  \n",
       "0               0%           0%           175  \n",
       "1               0%           0%           260  \n",
       "2               0%           0%           330  \n",
       "3               2%           0%           410  \n",
       "4              20%           0%            75  "
      ]
     },
     "execution_count": 27,
     "metadata": {},
     "output_type": "execute_result"
    }
   ],
   "source": [
    "expanded_drink_nutr.head()"
   ]
  },
  {
   "cell_type": "markdown",
   "id": "7dcfc070",
   "metadata": {},
   "source": [
    "# Data Cleaning and Transformation"
   ]
  },
  {
   "cell_type": "markdown",
   "id": "e38b25d8",
   "metadata": {},
   "source": [
    "##### The drinks nutrition dataframe has '-' so I will replace them with blanks and drop na's"
   ]
  },
  {
   "cell_type": "code",
   "execution_count": 28,
   "id": "f5fe51fb",
   "metadata": {
    "scrolled": true
   },
   "outputs": [],
   "source": [
    "drinks_nutr.replace('-', np.nan, inplace = True)"
   ]
  },
  {
   "cell_type": "code",
   "execution_count": 29,
   "id": "1d77ce0a",
   "metadata": {
    "scrolled": true
   },
   "outputs": [
    {
     "data": {
      "text/plain": [
       "Beverage_category            0\n",
       "Beverage                     0\n",
       "Beverage_prep                0\n",
       "Calories                     0\n",
       " Total Fat (g)               0\n",
       "Trans Fat (g)                0\n",
       "Saturated Fat (g)            0\n",
       " Sodium (mg)                 0\n",
       " Total Carbohydrates (g)     0\n",
       "Cholesterol (mg)             0\n",
       " Dietary Fibre (g)           0\n",
       " Sugars (g)                  0\n",
       " Protein (g)                 0\n",
       "Vitamin A (% DV)             0\n",
       "Vitamin C (% DV)             0\n",
       " Calcium (% DV)              0\n",
       "Iron (% DV)                  0\n",
       "Caffeine (mg)                1\n",
       "dtype: int64"
      ]
     },
     "execution_count": 29,
     "metadata": {},
     "output_type": "execute_result"
    }
   ],
   "source": [
    "expanded_drink_nutr.isna().sum()"
   ]
  },
  {
   "cell_type": "code",
   "execution_count": 30,
   "id": "ca8a73f4",
   "metadata": {
    "scrolled": true
   },
   "outputs": [
    {
     "data": {
      "text/html": [
       "<div>\n",
       "<style scoped>\n",
       "    .dataframe tbody tr th:only-of-type {\n",
       "        vertical-align: middle;\n",
       "    }\n",
       "\n",
       "    .dataframe tbody tr th {\n",
       "        vertical-align: top;\n",
       "    }\n",
       "\n",
       "    .dataframe thead th {\n",
       "        text-align: right;\n",
       "    }\n",
       "</style>\n",
       "<table border=\"1\" class=\"dataframe\">\n",
       "  <thead>\n",
       "    <tr style=\"text-align: right;\">\n",
       "      <th></th>\n",
       "      <th>Unnamed: 0</th>\n",
       "      <th>Calories</th>\n",
       "      <th>Fat (g)</th>\n",
       "      <th>Carb. (g)</th>\n",
       "      <th>Fiber (g)</th>\n",
       "      <th>Protein</th>\n",
       "      <th>Sodium</th>\n",
       "    </tr>\n",
       "  </thead>\n",
       "  <tbody>\n",
       "    <tr>\n",
       "      <th>0</th>\n",
       "      <td>Cool Lime Starbucks Refreshers™ Beverage</td>\n",
       "      <td>45</td>\n",
       "      <td>0</td>\n",
       "      <td>11</td>\n",
       "      <td>0</td>\n",
       "      <td>0</td>\n",
       "      <td>10</td>\n",
       "    </tr>\n",
       "    <tr>\n",
       "      <th>1</th>\n",
       "      <td>Strawberry Acai Starbucks Refreshers™ Beverage</td>\n",
       "      <td>80</td>\n",
       "      <td>0</td>\n",
       "      <td>18</td>\n",
       "      <td>1</td>\n",
       "      <td>0</td>\n",
       "      <td>10</td>\n",
       "    </tr>\n",
       "    <tr>\n",
       "      <th>2</th>\n",
       "      <td>Very Berry Hibiscus Starbucks Refreshers™ Beve...</td>\n",
       "      <td>60</td>\n",
       "      <td>0</td>\n",
       "      <td>14</td>\n",
       "      <td>1</td>\n",
       "      <td>0</td>\n",
       "      <td>10</td>\n",
       "    </tr>\n",
       "    <tr>\n",
       "      <th>3</th>\n",
       "      <td>Evolution Fresh™ Organic Ginger Limeade</td>\n",
       "      <td>110</td>\n",
       "      <td>0</td>\n",
       "      <td>28</td>\n",
       "      <td>0</td>\n",
       "      <td>0</td>\n",
       "      <td>5</td>\n",
       "    </tr>\n",
       "    <tr>\n",
       "      <th>4</th>\n",
       "      <td>Iced Coffee</td>\n",
       "      <td>0</td>\n",
       "      <td>0</td>\n",
       "      <td>0</td>\n",
       "      <td>0</td>\n",
       "      <td>0</td>\n",
       "      <td>0</td>\n",
       "    </tr>\n",
       "  </tbody>\n",
       "</table>\n",
       "</div>"
      ],
      "text/plain": [
       "                                          Unnamed: 0 Calories Fat (g)  \\\n",
       "0           Cool Lime Starbucks Refreshers™ Beverage       45       0   \n",
       "1     Strawberry Acai Starbucks Refreshers™ Beverage       80       0   \n",
       "2  Very Berry Hibiscus Starbucks Refreshers™ Beve...       60       0   \n",
       "3            Evolution Fresh™ Organic Ginger Limeade      110       0   \n",
       "4                                        Iced Coffee        0       0   \n",
       "\n",
       "  Carb. (g) Fiber (g) Protein Sodium  \n",
       "0        11         0       0     10  \n",
       "1        18         1       0     10  \n",
       "2        14         1       0     10  \n",
       "3        28         0       0      5  \n",
       "4         0         0       0      0  "
      ]
     },
     "execution_count": 30,
     "metadata": {},
     "output_type": "execute_result"
    }
   ],
   "source": [
    "drinks_nutr.dropna(inplace = True)\n",
    "drinks_nutr = drinks_nutr.reset_index(drop = True)\n",
    "drinks_nutr.head()"
   ]
  },
  {
   "cell_type": "code",
   "execution_count": 31,
   "id": "f2a33ea1",
   "metadata": {
    "scrolled": true
   },
   "outputs": [
    {
     "data": {
      "text/plain": [
       "array(['175', '260', '330', '410', '75', '150', '85', '95', '180', '225',\n",
       "       '300', '10', '20', '25', '30', '0', 'Varies', '50', '70', '120',\n",
       "       '55', '80', '110', 'varies', '165', '235', '90', nan, '125', '170',\n",
       "       '15', '130', '140', '100', '145', '65', '105'], dtype=object)"
      ]
     },
     "execution_count": 31,
     "metadata": {},
     "output_type": "execute_result"
    }
   ],
   "source": [
    "expanded_drink_nutr['Caffeine (mg)'].unique()"
   ]
  },
  {
   "cell_type": "code",
   "execution_count": 32,
   "id": "488fcbd3",
   "metadata": {
    "scrolled": true
   },
   "outputs": [],
   "source": [
    "expanded_drink_nutr = expanded_drink_nutr.loc[expanded_drink_nutr['Caffeine (mg)'] != 'varies']\n",
    "expanded_drink_nutr = expanded_drink_nutr.loc[expanded_drink_nutr['Caffeine (mg)'] != 'Varies']"
   ]
  },
  {
   "cell_type": "code",
   "execution_count": 60,
   "id": "8e6b6255",
   "metadata": {},
   "outputs": [
    {
     "data": {
      "text/plain": [
       "Beverage_category    0\n",
       "Beverage             0\n",
       "Beverage_prep        0\n",
       "Calories             0\n",
       "Total_Fat            0\n",
       "Trans_Fat            0\n",
       "Saturated_Fat        0\n",
       "Sodium               0\n",
       "total_carbs          0\n",
       "Cholesterol          0\n",
       "Dietary_Fiber        0\n",
       "Sugars               0\n",
       "Protein              0\n",
       "Vitamin_A            0\n",
       "Vitamin_C            0\n",
       "Calcium              0\n",
       "Iron                 0\n",
       "Caffeine             0\n",
       "dtype: int64"
      ]
     },
     "execution_count": 60,
     "metadata": {},
     "output_type": "execute_result"
    }
   ],
   "source": [
    "expanded_drink_nutr.dropna(inplace = True)\n",
    "expanded_drink_nutr.reset_index(drop = True, inplace = True)\n",
    "expanded_drink_nutr.isna().sum() # 0"
   ]
  },
  {
   "cell_type": "markdown",
   "id": "b1723a3a",
   "metadata": {},
   "source": [
    "##### Rename the first column for 2 of the dataframes from 'Unnamed: 0' to 'Name'"
   ]
  },
  {
   "cell_type": "code",
   "execution_count": 36,
   "id": "6f69a0a1",
   "metadata": {
    "scrolled": true
   },
   "outputs": [],
   "source": [
    "food_nutr.rename(columns = {'Unnamed: 0' : 'Name'}, inplace = True)\n",
    "drinks_nutr.rename(columns = {'Unnamed: 0' : 'Name'}, inplace = True)"
   ]
  },
  {
   "cell_type": "code",
   "execution_count": 37,
   "id": "79a05a79",
   "metadata": {
    "scrolled": true
   },
   "outputs": [
    {
     "data": {
      "text/plain": [
       "['Name', 'Name', 'Beverage_category']"
      ]
     },
     "execution_count": 37,
     "metadata": {},
     "output_type": "execute_result"
    }
   ],
   "source": [
    "dfs = [food_nutr, drinks_nutr, expanded_drink_nutr]\n",
    "\n",
    "[i.columns[0] for i in dfs]"
   ]
  },
  {
   "cell_type": "code",
   "execution_count": 38,
   "id": "b0269b3b",
   "metadata": {
    "scrolled": true
   },
   "outputs": [
    {
     "name": "stdout",
     "output_type": "stream",
     "text": [
      "<class 'pandas.core.frame.DataFrame'>\n",
      "RangeIndex: 113 entries, 0 to 112\n",
      "Data columns (total 6 columns):\n",
      " #   Column        Non-Null Count  Dtype  \n",
      "---  ------        --------------  -----  \n",
      " 0   Name          113 non-null    object \n",
      " 1    Calories     113 non-null    int64  \n",
      " 2    Fat (g)      113 non-null    float64\n",
      " 3    Carb. (g)    113 non-null    int64  \n",
      " 4    Fiber (g)    113 non-null    int64  \n",
      " 5    Protein (g)  113 non-null    int64  \n",
      "dtypes: float64(1), int64(4), object(1)\n",
      "memory usage: 5.4+ KB\n",
      "<class 'pandas.core.frame.DataFrame'>\n",
      "RangeIndex: 92 entries, 0 to 91\n",
      "Data columns (total 7 columns):\n",
      " #   Column     Non-Null Count  Dtype \n",
      "---  ------     --------------  ----- \n",
      " 0   Name       92 non-null     object\n",
      " 1   Calories   92 non-null     object\n",
      " 2   Fat (g)    92 non-null     object\n",
      " 3   Carb. (g)  92 non-null     object\n",
      " 4   Fiber (g)  92 non-null     object\n",
      " 5   Protein    92 non-null     object\n",
      " 6   Sodium     92 non-null     object\n",
      "dtypes: object(7)\n",
      "memory usage: 5.2+ KB\n",
      "<class 'pandas.core.frame.DataFrame'>\n",
      "Int64Index: 219 entries, 0 to 241\n",
      "Data columns (total 18 columns):\n",
      " #   Column                     Non-Null Count  Dtype  \n",
      "---  ------                     --------------  -----  \n",
      " 0   Beverage_category          219 non-null    object \n",
      " 1   Beverage                   219 non-null    object \n",
      " 2   Beverage_prep              219 non-null    object \n",
      " 3   Calories                   219 non-null    int64  \n",
      " 4    Total Fat (g)             219 non-null    object \n",
      " 5   Trans Fat (g)              219 non-null    float64\n",
      " 6   Saturated Fat (g)          219 non-null    float64\n",
      " 7    Sodium (mg)               219 non-null    int64  \n",
      " 8    Total Carbohydrates (g)   219 non-null    int64  \n",
      " 9   Cholesterol (mg)           219 non-null    int64  \n",
      " 10   Dietary Fibre (g)         219 non-null    int64  \n",
      " 11   Sugars (g)                219 non-null    int64  \n",
      " 12   Protein (g)               219 non-null    float64\n",
      " 13  Vitamin A (% DV)           219 non-null    object \n",
      " 14  Vitamin C (% DV)           219 non-null    object \n",
      " 15   Calcium (% DV)            219 non-null    object \n",
      " 16  Iron (% DV)                219 non-null    object \n",
      " 17  Caffeine (mg)              219 non-null    object \n",
      "dtypes: float64(3), int64(6), object(9)\n",
      "memory usage: 32.5+ KB\n"
     ]
    },
    {
     "data": {
      "text/plain": [
       "[None, None, None]"
      ]
     },
     "execution_count": 38,
     "metadata": {},
     "output_type": "execute_result"
    }
   ],
   "source": [
    "[i.info() for i in dfs]"
   ]
  },
  {
   "cell_type": "markdown",
   "id": "c051e3ca",
   "metadata": {},
   "source": [
    "##### There are multiple datatypes - let's convert any column that isn't an object or a float to a float "
   ]
  },
  {
   "cell_type": "code",
   "execution_count": 40,
   "id": "c51f0d47",
   "metadata": {
    "scrolled": true
   },
   "outputs": [],
   "source": [
    "for df in dfs:\n",
    "    for i in df.columns:\n",
    "        if df[i].dtype != 'object':\n",
    "            df[i] = df[i].astype('float')"
   ]
  },
  {
   "cell_type": "code",
   "execution_count": 41,
   "id": "b46269fe",
   "metadata": {
    "scrolled": true
   },
   "outputs": [],
   "source": [
    "for i in drinks_nutr.columns[1:]:\n",
    "    drinks_nutr[i] = drinks_nutr[i].astype('float')"
   ]
  },
  {
   "cell_type": "code",
   "execution_count": 42,
   "id": "b4499aa3",
   "metadata": {
    "scrolled": true
   },
   "outputs": [],
   "source": [
    "#for i in expanded_drink_nutr.columns[:]:\n",
    " #   expanded_drink_nutr[i] = expanded_drink_nutr[i].astype('float')"
   ]
  },
  {
   "cell_type": "code",
   "execution_count": 43,
   "id": "9de41ab4",
   "metadata": {
    "scrolled": true
   },
   "outputs": [
    {
     "name": "stdout",
     "output_type": "stream",
     "text": [
      "<class 'pandas.core.frame.DataFrame'>\n",
      "RangeIndex: 113 entries, 0 to 112\n",
      "Data columns (total 6 columns):\n",
      " #   Column        Non-Null Count  Dtype  \n",
      "---  ------        --------------  -----  \n",
      " 0   Name          113 non-null    object \n",
      " 1    Calories     113 non-null    float64\n",
      " 2    Fat (g)      113 non-null    float64\n",
      " 3    Carb. (g)    113 non-null    float64\n",
      " 4    Fiber (g)    113 non-null    float64\n",
      " 5    Protein (g)  113 non-null    float64\n",
      "dtypes: float64(5), object(1)\n",
      "memory usage: 5.4+ KB\n",
      "<class 'pandas.core.frame.DataFrame'>\n",
      "RangeIndex: 92 entries, 0 to 91\n",
      "Data columns (total 7 columns):\n",
      " #   Column     Non-Null Count  Dtype  \n",
      "---  ------     --------------  -----  \n",
      " 0   Name       92 non-null     object \n",
      " 1   Calories   92 non-null     float64\n",
      " 2   Fat (g)    92 non-null     float64\n",
      " 3   Carb. (g)  92 non-null     float64\n",
      " 4   Fiber (g)  92 non-null     float64\n",
      " 5   Protein    92 non-null     float64\n",
      " 6   Sodium     92 non-null     float64\n",
      "dtypes: float64(6), object(1)\n",
      "memory usage: 5.2+ KB\n",
      "<class 'pandas.core.frame.DataFrame'>\n",
      "Int64Index: 219 entries, 0 to 241\n",
      "Data columns (total 18 columns):\n",
      " #   Column                     Non-Null Count  Dtype  \n",
      "---  ------                     --------------  -----  \n",
      " 0   Beverage_category          219 non-null    object \n",
      " 1   Beverage                   219 non-null    object \n",
      " 2   Beverage_prep              219 non-null    object \n",
      " 3   Calories                   219 non-null    float64\n",
      " 4    Total Fat (g)             219 non-null    object \n",
      " 5   Trans Fat (g)              219 non-null    float64\n",
      " 6   Saturated Fat (g)          219 non-null    float64\n",
      " 7    Sodium (mg)               219 non-null    float64\n",
      " 8    Total Carbohydrates (g)   219 non-null    float64\n",
      " 9   Cholesterol (mg)           219 non-null    float64\n",
      " 10   Dietary Fibre (g)         219 non-null    float64\n",
      " 11   Sugars (g)                219 non-null    float64\n",
      " 12   Protein (g)               219 non-null    float64\n",
      " 13  Vitamin A (% DV)           219 non-null    object \n",
      " 14  Vitamin C (% DV)           219 non-null    object \n",
      " 15   Calcium (% DV)            219 non-null    object \n",
      " 16  Iron (% DV)                219 non-null    object \n",
      " 17  Caffeine (mg)              219 non-null    object \n",
      "dtypes: float64(9), object(9)\n",
      "memory usage: 32.5+ KB\n"
     ]
    },
    {
     "data": {
      "text/plain": [
       "[None, None, None]"
      ]
     },
     "execution_count": 43,
     "metadata": {},
     "output_type": "execute_result"
    }
   ],
   "source": [
    "[i.info() for i in dfs]"
   ]
  },
  {
   "cell_type": "markdown",
   "id": "2dc48dda",
   "metadata": {},
   "source": [
    "#### Let's replace the '%' sign in the expanded menu dataframe columns and values for those columns\n",
    "#### Assume we have a data dictionary to give descriptions of columns"
   ]
  },
  {
   "cell_type": "code",
   "execution_count": 44,
   "id": "680a5fba",
   "metadata": {
    "scrolled": true
   },
   "outputs": [],
   "source": [
    "# strip leading and trailing space from all dataframe columns\n",
    "food_nutr.columns = food_nutr.columns.str.strip()\n",
    "drinks_nutr.columns = drinks_nutr.columns.str.strip()\n",
    "expanded_drink_nutr.columns = expanded_drink_nutr.columns.str.strip()"
   ]
  },
  {
   "cell_type": "code",
   "execution_count": 45,
   "id": "cae0d104",
   "metadata": {
    "scrolled": true
   },
   "outputs": [
    {
     "data": {
      "text/html": [
       "<div>\n",
       "<style scoped>\n",
       "    .dataframe tbody tr th:only-of-type {\n",
       "        vertical-align: middle;\n",
       "    }\n",
       "\n",
       "    .dataframe tbody tr th {\n",
       "        vertical-align: top;\n",
       "    }\n",
       "\n",
       "    .dataframe thead th {\n",
       "        text-align: right;\n",
       "    }\n",
       "</style>\n",
       "<table border=\"1\" class=\"dataframe\">\n",
       "  <thead>\n",
       "    <tr style=\"text-align: right;\">\n",
       "      <th></th>\n",
       "      <th>Beverage_category</th>\n",
       "      <th>Beverage</th>\n",
       "      <th>Beverage_prep</th>\n",
       "      <th>Calories</th>\n",
       "      <th>Total_Fat</th>\n",
       "      <th>Trans_Fat</th>\n",
       "      <th>Saturated_Fat</th>\n",
       "      <th>Sodium</th>\n",
       "      <th>total_carbs</th>\n",
       "      <th>Cholesterol</th>\n",
       "      <th>Dietary_Fiber</th>\n",
       "      <th>Sugars</th>\n",
       "      <th>Protein</th>\n",
       "      <th>Vitamin_A</th>\n",
       "      <th>Vitamin_C</th>\n",
       "      <th>Calcium</th>\n",
       "      <th>Iron</th>\n",
       "      <th>Caffeine</th>\n",
       "    </tr>\n",
       "  </thead>\n",
       "  <tbody>\n",
       "    <tr>\n",
       "      <th>0</th>\n",
       "      <td>Coffee</td>\n",
       "      <td>Brewed Coffee</td>\n",
       "      <td>Short</td>\n",
       "      <td>3.0</td>\n",
       "      <td>0.1</td>\n",
       "      <td>0.0</td>\n",
       "      <td>0.0</td>\n",
       "      <td>0.0</td>\n",
       "      <td>5.0</td>\n",
       "      <td>0.0</td>\n",
       "      <td>0.0</td>\n",
       "      <td>0.0</td>\n",
       "      <td>0.3</td>\n",
       "      <td>0%</td>\n",
       "      <td>0%</td>\n",
       "      <td>0%</td>\n",
       "      <td>0%</td>\n",
       "      <td>175</td>\n",
       "    </tr>\n",
       "    <tr>\n",
       "      <th>1</th>\n",
       "      <td>Coffee</td>\n",
       "      <td>Brewed Coffee</td>\n",
       "      <td>Tall</td>\n",
       "      <td>4.0</td>\n",
       "      <td>0.1</td>\n",
       "      <td>0.0</td>\n",
       "      <td>0.0</td>\n",
       "      <td>0.0</td>\n",
       "      <td>10.0</td>\n",
       "      <td>0.0</td>\n",
       "      <td>0.0</td>\n",
       "      <td>0.0</td>\n",
       "      <td>0.5</td>\n",
       "      <td>0%</td>\n",
       "      <td>0%</td>\n",
       "      <td>0%</td>\n",
       "      <td>0%</td>\n",
       "      <td>260</td>\n",
       "    </tr>\n",
       "    <tr>\n",
       "      <th>2</th>\n",
       "      <td>Coffee</td>\n",
       "      <td>Brewed Coffee</td>\n",
       "      <td>Grande</td>\n",
       "      <td>5.0</td>\n",
       "      <td>0.1</td>\n",
       "      <td>0.0</td>\n",
       "      <td>0.0</td>\n",
       "      <td>0.0</td>\n",
       "      <td>10.0</td>\n",
       "      <td>0.0</td>\n",
       "      <td>0.0</td>\n",
       "      <td>0.0</td>\n",
       "      <td>1.0</td>\n",
       "      <td>0%</td>\n",
       "      <td>0%</td>\n",
       "      <td>0%</td>\n",
       "      <td>0%</td>\n",
       "      <td>330</td>\n",
       "    </tr>\n",
       "    <tr>\n",
       "      <th>3</th>\n",
       "      <td>Coffee</td>\n",
       "      <td>Brewed Coffee</td>\n",
       "      <td>Venti</td>\n",
       "      <td>5.0</td>\n",
       "      <td>0.1</td>\n",
       "      <td>0.0</td>\n",
       "      <td>0.0</td>\n",
       "      <td>0.0</td>\n",
       "      <td>10.0</td>\n",
       "      <td>0.0</td>\n",
       "      <td>0.0</td>\n",
       "      <td>0.0</td>\n",
       "      <td>1.0</td>\n",
       "      <td>0%</td>\n",
       "      <td>0%</td>\n",
       "      <td>2%</td>\n",
       "      <td>0%</td>\n",
       "      <td>410</td>\n",
       "    </tr>\n",
       "    <tr>\n",
       "      <th>4</th>\n",
       "      <td>Classic Espresso Drinks</td>\n",
       "      <td>Caffè Latte</td>\n",
       "      <td>Short Nonfat Milk</td>\n",
       "      <td>70.0</td>\n",
       "      <td>0.1</td>\n",
       "      <td>0.1</td>\n",
       "      <td>0.0</td>\n",
       "      <td>5.0</td>\n",
       "      <td>75.0</td>\n",
       "      <td>10.0</td>\n",
       "      <td>0.0</td>\n",
       "      <td>9.0</td>\n",
       "      <td>6.0</td>\n",
       "      <td>10%</td>\n",
       "      <td>0%</td>\n",
       "      <td>20%</td>\n",
       "      <td>0%</td>\n",
       "      <td>75</td>\n",
       "    </tr>\n",
       "  </tbody>\n",
       "</table>\n",
       "</div>"
      ],
      "text/plain": [
       "         Beverage_category       Beverage      Beverage_prep  Calories  \\\n",
       "0                   Coffee  Brewed Coffee              Short       3.0   \n",
       "1                   Coffee  Brewed Coffee               Tall       4.0   \n",
       "2                   Coffee  Brewed Coffee             Grande       5.0   \n",
       "3                   Coffee  Brewed Coffee              Venti       5.0   \n",
       "4  Classic Espresso Drinks    Caffè Latte  Short Nonfat Milk      70.0   \n",
       "\n",
       "  Total_Fat  Trans_Fat  Saturated_Fat  Sodium  total_carbs  Cholesterol  \\\n",
       "0       0.1        0.0            0.0     0.0          5.0          0.0   \n",
       "1       0.1        0.0            0.0     0.0         10.0          0.0   \n",
       "2       0.1        0.0            0.0     0.0         10.0          0.0   \n",
       "3       0.1        0.0            0.0     0.0         10.0          0.0   \n",
       "4       0.1        0.1            0.0     5.0         75.0         10.0   \n",
       "\n",
       "   Dietary_Fiber  Sugars  Protein Vitamin_A Vitamin_C Calcium Iron Caffeine  \n",
       "0            0.0     0.0      0.3        0%        0%      0%   0%      175  \n",
       "1            0.0     0.0      0.5        0%        0%      0%   0%      260  \n",
       "2            0.0     0.0      1.0        0%        0%      0%   0%      330  \n",
       "3            0.0     0.0      1.0        0%        0%      2%   0%      410  \n",
       "4            0.0     9.0      6.0       10%        0%     20%   0%       75  "
      ]
     },
     "execution_count": 45,
     "metadata": {},
     "output_type": "execute_result"
    }
   ],
   "source": [
    "expanded_drink_nutr = expanded_drink_nutr.rename(columns = {'Vitamin A (% DV)' : 'Vitamin_A', 'Vitamin C (% DV)': 'Vitamin_C', \n",
    "                                'Calcium (% DV)' : 'Calcium', 'Iron (% DV)': 'Iron', 'Total Fat (g)' : 'Total_Fat', \n",
    "                                'Trans Fat (g)' : 'Trans_Fat', 'Saturated Fat (g)' : 'Saturated_Fat', 'Sodium (mg)' : 'Sodium',\n",
    "                                'Total Carbohydrates (g)' : 'total_carbs', 'Cholesterol (mg)' : 'Cholesterol', \n",
    "                                'Dietary Fibre (g)' : 'Dietary_Fiber', 'Sugars (g)' : 'Sugars', 'Protein (g)' : 'Protein', \n",
    "                                'Caffeine (mg)' : 'Caffeine'})\n",
    "                                      \n",
    "expanded_drink_nutr.head()"
   ]
  },
  {
   "cell_type": "code",
   "execution_count": 46,
   "id": "85244932",
   "metadata": {
    "scrolled": false
   },
   "outputs": [
    {
     "data": {
      "text/html": [
       "<div>\n",
       "<style scoped>\n",
       "    .dataframe tbody tr th:only-of-type {\n",
       "        vertical-align: middle;\n",
       "    }\n",
       "\n",
       "    .dataframe tbody tr th {\n",
       "        vertical-align: top;\n",
       "    }\n",
       "\n",
       "    .dataframe thead th {\n",
       "        text-align: right;\n",
       "    }\n",
       "</style>\n",
       "<table border=\"1\" class=\"dataframe\">\n",
       "  <thead>\n",
       "    <tr style=\"text-align: right;\">\n",
       "      <th></th>\n",
       "      <th>Beverage_category</th>\n",
       "      <th>Beverage</th>\n",
       "      <th>Beverage_prep</th>\n",
       "      <th>Calories</th>\n",
       "      <th>Total_Fat</th>\n",
       "      <th>Trans_Fat</th>\n",
       "      <th>Saturated_Fat</th>\n",
       "      <th>Sodium</th>\n",
       "      <th>total_carbs</th>\n",
       "      <th>Cholesterol</th>\n",
       "      <th>Dietary_Fiber</th>\n",
       "      <th>Sugars</th>\n",
       "      <th>Protein</th>\n",
       "      <th>Vitamin_A</th>\n",
       "      <th>Vitamin_C</th>\n",
       "      <th>Calcium</th>\n",
       "      <th>Iron</th>\n",
       "      <th>Caffeine</th>\n",
       "    </tr>\n",
       "  </thead>\n",
       "  <tbody>\n",
       "    <tr>\n",
       "      <th>0</th>\n",
       "      <td>Coffee</td>\n",
       "      <td>Brewed Coffee</td>\n",
       "      <td>Short</td>\n",
       "      <td>3.0</td>\n",
       "      <td>0.1</td>\n",
       "      <td>0.0</td>\n",
       "      <td>0.0</td>\n",
       "      <td>0.0</td>\n",
       "      <td>5.0</td>\n",
       "      <td>0.0</td>\n",
       "      <td>0.0</td>\n",
       "      <td>0.0</td>\n",
       "      <td>0.3</td>\n",
       "      <td>0</td>\n",
       "      <td>0</td>\n",
       "      <td>0</td>\n",
       "      <td>0</td>\n",
       "      <td>175</td>\n",
       "    </tr>\n",
       "    <tr>\n",
       "      <th>1</th>\n",
       "      <td>Coffee</td>\n",
       "      <td>Brewed Coffee</td>\n",
       "      <td>Tall</td>\n",
       "      <td>4.0</td>\n",
       "      <td>0.1</td>\n",
       "      <td>0.0</td>\n",
       "      <td>0.0</td>\n",
       "      <td>0.0</td>\n",
       "      <td>10.0</td>\n",
       "      <td>0.0</td>\n",
       "      <td>0.0</td>\n",
       "      <td>0.0</td>\n",
       "      <td>0.5</td>\n",
       "      <td>0</td>\n",
       "      <td>0</td>\n",
       "      <td>0</td>\n",
       "      <td>0</td>\n",
       "      <td>260</td>\n",
       "    </tr>\n",
       "    <tr>\n",
       "      <th>2</th>\n",
       "      <td>Coffee</td>\n",
       "      <td>Brewed Coffee</td>\n",
       "      <td>Grande</td>\n",
       "      <td>5.0</td>\n",
       "      <td>0.1</td>\n",
       "      <td>0.0</td>\n",
       "      <td>0.0</td>\n",
       "      <td>0.0</td>\n",
       "      <td>10.0</td>\n",
       "      <td>0.0</td>\n",
       "      <td>0.0</td>\n",
       "      <td>0.0</td>\n",
       "      <td>1.0</td>\n",
       "      <td>0</td>\n",
       "      <td>0</td>\n",
       "      <td>0</td>\n",
       "      <td>0</td>\n",
       "      <td>330</td>\n",
       "    </tr>\n",
       "    <tr>\n",
       "      <th>3</th>\n",
       "      <td>Coffee</td>\n",
       "      <td>Brewed Coffee</td>\n",
       "      <td>Venti</td>\n",
       "      <td>5.0</td>\n",
       "      <td>0.1</td>\n",
       "      <td>0.0</td>\n",
       "      <td>0.0</td>\n",
       "      <td>0.0</td>\n",
       "      <td>10.0</td>\n",
       "      <td>0.0</td>\n",
       "      <td>0.0</td>\n",
       "      <td>0.0</td>\n",
       "      <td>1.0</td>\n",
       "      <td>0</td>\n",
       "      <td>0</td>\n",
       "      <td>2</td>\n",
       "      <td>0</td>\n",
       "      <td>410</td>\n",
       "    </tr>\n",
       "    <tr>\n",
       "      <th>4</th>\n",
       "      <td>Classic Espresso Drinks</td>\n",
       "      <td>Caffè Latte</td>\n",
       "      <td>Short Nonfat Milk</td>\n",
       "      <td>70.0</td>\n",
       "      <td>0.1</td>\n",
       "      <td>0.1</td>\n",
       "      <td>0.0</td>\n",
       "      <td>5.0</td>\n",
       "      <td>75.0</td>\n",
       "      <td>10.0</td>\n",
       "      <td>0.0</td>\n",
       "      <td>9.0</td>\n",
       "      <td>6.0</td>\n",
       "      <td>10</td>\n",
       "      <td>0</td>\n",
       "      <td>20</td>\n",
       "      <td>0</td>\n",
       "      <td>75</td>\n",
       "    </tr>\n",
       "  </tbody>\n",
       "</table>\n",
       "</div>"
      ],
      "text/plain": [
       "         Beverage_category       Beverage      Beverage_prep  Calories  \\\n",
       "0                   Coffee  Brewed Coffee              Short       3.0   \n",
       "1                   Coffee  Brewed Coffee               Tall       4.0   \n",
       "2                   Coffee  Brewed Coffee             Grande       5.0   \n",
       "3                   Coffee  Brewed Coffee              Venti       5.0   \n",
       "4  Classic Espresso Drinks    Caffè Latte  Short Nonfat Milk      70.0   \n",
       "\n",
       "  Total_Fat  Trans_Fat  Saturated_Fat  Sodium  total_carbs  Cholesterol  \\\n",
       "0       0.1        0.0            0.0     0.0          5.0          0.0   \n",
       "1       0.1        0.0            0.0     0.0         10.0          0.0   \n",
       "2       0.1        0.0            0.0     0.0         10.0          0.0   \n",
       "3       0.1        0.0            0.0     0.0         10.0          0.0   \n",
       "4       0.1        0.1            0.0     5.0         75.0         10.0   \n",
       "\n",
       "   Dietary_Fiber  Sugars  Protein Vitamin_A Vitamin_C Calcium Iron Caffeine  \n",
       "0            0.0     0.0      0.3         0         0       0    0      175  \n",
       "1            0.0     0.0      0.5         0         0       0    0      260  \n",
       "2            0.0     0.0      1.0         0         0       0    0      330  \n",
       "3            0.0     0.0      1.0         0         0       2    0      410  \n",
       "4            0.0     9.0      6.0        10         0      20    0       75  "
      ]
     },
     "execution_count": 46,
     "metadata": {},
     "output_type": "execute_result"
    }
   ],
   "source": [
    "## No longer needed\n",
    "\n",
    "#expanded_drink_nutr = expanded_drink_nutr.replace('%', '', regex = True)\n",
    "#expanded_drink_nutr.head()"
   ]
  },
  {
   "cell_type": "code",
   "execution_count": null,
   "id": "765857b8",
   "metadata": {
    "scrolled": false
   },
   "outputs": [],
   "source": [
    "#expanded_drink_nutr.loc[expanded_drink_nutr.Calories == 320.0]\n",
    "\n",
    "expanded_drink_nutr.Total_Fat = expanded_drink_nutr.Total_Fat.str.strip()"
   ]
  },
  {
   "cell_type": "markdown",
   "id": "56ee61d3",
   "metadata": {},
   "source": [
    "### Remove the trailing 'g' and 'mg' from columns in dataframe\n",
    "#### Again assuming we will be provided a data dictionary to provide correct measurement"
   ]
  },
  {
   "cell_type": "code",
   "execution_count": null,
   "id": "2fdb67ce",
   "metadata": {
    "scrolled": true
   },
   "outputs": [],
   "source": [
    "'''for df in dfs:\n",
    "    df.columns = df.columns.str.replace(r'[(g)]', '', regex = True).str.strip()\n",
    "    df.columns = df.columns.str.replace(r'[(mg)]', '', regex = False).str.strip() '''\n",
    "\n",
    "# The above code did not work due to it actaully removing all instance of letters 'g' and 'm' so below is another\n",
    "# for of the strip method"
   ]
  },
  {
   "cell_type": "code",
   "execution_count": 48,
   "id": "4b903443",
   "metadata": {
    "scrolled": true
   },
   "outputs": [],
   "source": [
    "# remove trailing 'g' and 'mg'\n",
    "import re\n",
    "for df in dfs:\n",
    "    df.columns = df.columns.str.rstrip('(g) .')"
   ]
  },
  {
   "cell_type": "code",
   "execution_count": 49,
   "id": "b5c093ea",
   "metadata": {
    "scrolled": true
   },
   "outputs": [],
   "source": [
    "# check dataframes\n",
    "\n",
    "#food_nutr\n",
    "#drinks_nutr\n",
    "#expanded_drink_nutr"
   ]
  },
  {
   "cell_type": "markdown",
   "id": "210ed7d4",
   "metadata": {},
   "source": [
    "#### There seems to be a space in the Total_Fat column for the expanded_drink_nutr dataframe so lets take care of it assuming its 3.2"
   ]
  },
  {
   "cell_type": "code",
   "execution_count": null,
   "id": "476adaae",
   "metadata": {},
   "outputs": [],
   "source": [
    "#pd.set_option('display.max_rows', None)\n",
    "#print(expanded_drink_nutr.Total_Fat)\n",
    "\n",
    "expanded_drink_nutr.Total_Fat.iloc[214] = expanded_drink_nutr.Total_Fat.iloc[214].replace(' ', '.')"
   ]
  },
  {
   "cell_type": "markdown",
   "id": "886e9f68",
   "metadata": {},
   "source": [
    "# Load Clean Data into PostgreSQL Database"
   ]
  },
  {
   "cell_type": "code",
   "execution_count": 50,
   "id": "f10c35d0",
   "metadata": {
    "scrolled": false
   },
   "outputs": [],
   "source": [
    "# install libraries\n",
    "#!pip3 install psycopg2-binary\n",
    "import psycopg2"
   ]
  },
  {
   "cell_type": "code",
   "execution_count": 51,
   "id": "b93b063f",
   "metadata": {
    "scrolled": true
   },
   "outputs": [],
   "source": [
    "import re\n",
    "for df in dfs:\n",
    "    df.columns = df.columns.str.rstrip('(g) .')"
   ]
  },
  {
   "cell_type": "markdown",
   "id": "0a1d5bb4",
   "metadata": {},
   "source": [
    "### Connect to Postgres and create a new database to load starbucks menu data"
   ]
  },
  {
   "cell_type": "code",
   "execution_count": 53,
   "id": "36d95d54",
   "metadata": {
    "scrolled": true
   },
   "outputs": [],
   "source": [
    "# establish connection to postgres database\n",
    "conn = psycopg2.connect(database = 'postgres',\n",
    "                        host = 'localhost',\n",
    "                        user = 'postgres',\n",
    "                        password = '*********************', \n",
    "                        port = '5432')\n",
    "\n",
    "# Use connection to get cursor to execute queries\n",
    "cur = conn.cursor()\n",
    "\n",
    "# Set automatic commit\n",
    "conn.set_session(autocommit=True)"
   ]
  },
  {
   "cell_type": "code",
   "execution_count": 72,
   "id": "54e555f4",
   "metadata": {
    "scrolled": true
   },
   "outputs": [],
   "source": [
    "# create a new database\n",
    "#cur.execute('CREATE DATABASE starbucks_menu')\n",
    "\n",
    "# Close connection to postgres database\n",
    "conn.close()\n",
    "\n",
    "# connect to starbucks_menu database\n",
    "conn = psycopg2.connect(database = 'starbucks_menu',\n",
    "                        host = 'localhost',\n",
    "                        user = 'postgres',\n",
    "                        password = '***********************', \n",
    "                        port = '5432')\n",
    "\n",
    "# Use connection to get cursor to execute queries\n",
    "cur = conn.cursor()\n",
    "\n",
    "# Set automatic commit\n",
    "conn.set_session(autocommit=True)"
   ]
  },
  {
   "cell_type": "markdown",
   "id": "4b6650af",
   "metadata": {},
   "source": [
    "### Create tables for starbucks_menu database"
   ]
  },
  {
   "cell_type": "code",
   "execution_count": 55,
   "id": "a633fb0b",
   "metadata": {
    "scrolled": true
   },
   "outputs": [],
   "source": [
    "# create tables\n",
    "\n",
    "create_food_table = ''' CREATE TABLE food_menu (\n",
    "\n",
    "Name VARCHAR,\n",
    "calories FLOAT,\n",
    "fat FLOAT,\n",
    "carb FLOAT,\n",
    "fiber FLOAT,\n",
    "protein FLOAT\n",
    ")'''\n",
    "\n",
    "create_drinks_table = '''CREATE TABLE drinks_menu (\n",
    "\n",
    "Name VARCHAR,\n",
    "calories FLOAT,\n",
    "fat FLOAT,\n",
    "carb FLOAT,\n",
    "fiber FLOAT,\n",
    "protein FLOAT, \n",
    "sodium FLOAT\n",
    ")'''\n",
    "\n",
    "expanded_drinks_menu = '''CREATE TABLE expanded_drinks (\n",
    "\n",
    "beverage_category VARCHAR, \n",
    "beverage VARCHAR,\n",
    "beverage_prep VARCHAR, \n",
    "calories FLOAT,\n",
    "total_fat FLOAT,\n",
    "trans_fat FLOAT,\n",
    "saturated_fat FLOAT,\n",
    "sodium FLOAT, \n",
    "total_carbs FLOAT,\n",
    "cholesterol FLOAT, \n",
    "dietary_fiber FLOAT,\n",
    "sugars FLOAT,\n",
    "protein FLOAT,\n",
    "vitamin_a FLOAT,\n",
    "vitamin_c FLOAT,\n",
    "calcium FLOAT,\n",
    "iron FLOAT,\n",
    "caffeine FLOAT\n",
    ")\n",
    "\n",
    "'''\n",
    "\n",
    "\n"
   ]
  },
  {
   "cell_type": "code",
   "execution_count": 491,
   "id": "d3b731d2",
   "metadata": {
    "scrolled": true
   },
   "outputs": [],
   "source": [
    "# check dataframe for accurate column names\n",
    "\n",
    "#expanded_drink_nutr.info()"
   ]
  },
  {
   "cell_type": "code",
   "execution_count": 73,
   "id": "53d0da43",
   "metadata": {
    "scrolled": true
   },
   "outputs": [
    {
     "data": {
      "text/plain": [
       "<function connection.commit>"
      ]
     },
     "execution_count": 73,
     "metadata": {},
     "output_type": "execute_result"
    }
   ],
   "source": [
    "# execute command and committ\n",
    "cur.execute(create_food_table)\n",
    "cur.execute(create_drinks_table)\n",
    "cur.execute(expanded_drinks_menu)\n",
    "conn.commit"
   ]
  },
  {
   "cell_type": "markdown",
   "id": "70296508",
   "metadata": {},
   "source": [
    "### Insert values into rows for newly created tables"
   ]
  },
  {
   "cell_type": "code",
   "execution_count": null,
   "id": "b41f65ea",
   "metadata": {
    "scrolled": true
   },
   "outputs": [],
   "source": [
    "'''food_nutr.to_sql('food_menu', con=conn, if_exists='replace',\n",
    "          index=False) ''' ## SQL alchemy method - didn't import soooooo next method below =) ?"
   ]
  },
  {
   "cell_type": "code",
   "execution_count": 74,
   "id": "c697294f",
   "metadata": {
    "scrolled": true
   },
   "outputs": [],
   "source": [
    "# psycopg2 method\n",
    "import psycopg2.extras as extras\n",
    "\n",
    "def execute_values(conn, df, table):\n",
    "  \n",
    "    tuples = [tuple(x) for x in df.to_numpy()]\n",
    "  \n",
    "    cols = ','.join(list(df.columns))\n",
    "    \n",
    "    # SQL query to execute\n",
    "    query = \"INSERT INTO %s(%s) VALUES %%s\" % (table, cols)\n",
    "    cursor = conn.cursor()\n",
    "    try:\n",
    "        extras.execute_values(cursor, query, tuples)\n",
    "        conn.commit()\n",
    "    except (Exception, psycopg2.DatabaseError) as error:\n",
    "        print(\"Error: %s\" % error)\n",
    "        conn.rollback()\n",
    "        cursor.close()\n",
    "        return 1\n",
    "    print(\"the dataframe is inserted\")\n",
    "    cursor.close()"
   ]
  },
  {
   "cell_type": "code",
   "execution_count": 75,
   "id": "5f598fcc",
   "metadata": {
    "scrolled": true
   },
   "outputs": [
    {
     "name": "stdout",
     "output_type": "stream",
     "text": [
      "the dataframe is inserted\n",
      "the dataframe is inserted\n",
      "the dataframe is inserted\n"
     ]
    }
   ],
   "source": [
    "execute_values(conn, food_nutr, 'food_menu')\n",
    "execute_values(conn, drinks_nutr, 'drinks_menu')\n",
    "execute_values(conn, expanded_drink_nutr, 'expanded_drinks')"
   ]
  },
  {
   "cell_type": "markdown",
   "id": "c151ec0e",
   "metadata": {},
   "source": [
    "## That is the end of my data engineering project. Thank you for viewing! =)"
   ]
  },
  {
   "cell_type": "code",
   "execution_count": null,
   "id": "09ddbd2d",
   "metadata": {},
   "outputs": [],
   "source": []
  }
 ],
 "metadata": {
  "kernelspec": {
   "display_name": "Python 3 (ipykernel)",
   "language": "python",
   "name": "python3"
  },
  "language_info": {
   "codemirror_mode": {
    "name": "ipython",
    "version": 3
   },
   "file_extension": ".py",
   "mimetype": "text/x-python",
   "name": "python",
   "nbconvert_exporter": "python",
   "pygments_lexer": "ipython3",
   "version": "3.9.12"
  }
 },
 "nbformat": 4,
 "nbformat_minor": 5
}
